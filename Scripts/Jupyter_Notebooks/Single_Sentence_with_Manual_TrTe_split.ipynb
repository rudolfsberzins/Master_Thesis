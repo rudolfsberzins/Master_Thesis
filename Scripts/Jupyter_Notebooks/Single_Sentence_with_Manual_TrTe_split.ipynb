{
 "cells": [
  {
   "cell_type": "code",
   "execution_count": 1,
   "metadata": {
    "collapsed": true
   },
   "outputs": [],
   "source": [
    "from __future__ import division\n",
    "import pandas as pd\n",
    "import sys\n",
    "from sys import argv\n",
    "import re\n",
    "import numpy as np\n",
    "from nltk.tokenize import sent_tokenize\n",
    "import glob\n",
    "import os\n",
    "from nltk.corpus import stopwords\n",
    "from sklearn.feature_extraction.text import CountVectorizer\n",
    "from sklearn.ensemble import RandomForestClassifier\n",
    "from sklearn.metrics import roc_curve, auc\n",
    "import matplotlib.pyplot as plt\n",
    "from matplotlib import style\n",
    "style.use('fivethirtyeight')"
   ]
  },
  {
   "cell_type": "code",
   "execution_count": 2,
   "metadata": {
    "collapsed": true
   },
   "outputs": [],
   "source": [
    "def open_bow_df(bow_name):\n",
    "    \n",
    "    bow_df_file = pd.read_csv(bow_name, sep = \"\\t\")\n",
    "    \n",
    "    return bow_df_file"
   ]
  },
  {
   "cell_type": "code",
   "execution_count": 3,
   "metadata": {
    "collapsed": true
   },
   "outputs": [],
   "source": [
    "BOW_df_SS = open_bow_df(\"../../Results/Full_MEDLINE_Results_Single_Sen/Bag_of_Words_df_Single_Sen.tsv\")"
   ]
  },
  {
   "cell_type": "code",
   "execution_count": 21,
   "metadata": {
    "collapsed": true
   },
   "outputs": [],
   "source": [
    "def manual_TrTe_split(bow_df, random_state, test_set_prop):\n",
    "    \"\"\"Split BOW Data Frame so no two interactions occur both in Test and in Train sets\n",
    "    The code will try to get the around the proportion given by test_set_prop where train set\n",
    "    will be 1-test_set_prop.\"\"\"\n",
    "    \n",
    "    np.random.seed(random_state)\n",
    "    \n",
    "    #Get a Full list of proteins\n",
    "    real_x = bow_df[\"Real_ID_x\"].tolist()\n",
    "    real_y = bow_df[\"Real_ID_y\"].tolist()\n",
    "    full_protein_list = list(set(real_x + real_y)) #A set because it is faster to search it!\n",
    "    \n",
    "    train_size = len(full_protein_list) - int(len(full_protein_list)*test_set_prop)\n",
    "    train_prots = set(np.random.choice(np.array(full_protein_list), train_size, replace = False))\n",
    "    test_prots = set(full_protein_list) - set(train_prots)\n",
    "    \n",
    "    col_names = [\"Real_ID_x\", \"Real_ID_y\", \"Mode\", \"Text\"]\n",
    "    train = pd.DataFrame(columns = col_names)\n",
    "    test = pd.DataFrame(columns = col_names)\n",
    "    \n",
    "    for i,r in bow_df.iterrows():\n",
    "        if r[\"Real_ID_x\"] in train_prots and r[\"Real_ID_y\"] in train_prots:\n",
    "            temp_df = pd.DataFrame(r).T #Dirty but works\n",
    "            train = train.append(temp_df)\n",
    "            del temp_df\n",
    "        elif r[\"Real_ID_x\"] in test_prots and r[\"Real_ID_y\"] in test_prots:\n",
    "            temp_df = pd.DataFrame(r).T #Dirty but works\n",
    "            test = test.append(temp_df)\n",
    "            del temp_df\n",
    "        else:\n",
    "            pass\n",
    "    \n",
    "    return train.reset_index(drop = True), test.reset_index(drop = True)"
   ]
  },
  {
   "cell_type": "code",
   "execution_count": 22,
   "metadata": {
    "collapsed": true
   },
   "outputs": [],
   "source": [
    "train_bow_df, test_bow_df = manual_TrTe_split(BOW_df_SS, 1000, 0.3)"
   ]
  },
  {
   "cell_type": "code",
   "execution_count": 34,
   "metadata": {
    "collapsed": false
   },
   "outputs": [],
   "source": [
    "train_data = train_bow_df[[\"Real_ID_x\", \"Real_ID_y\", \"Text\"]]\n",
    "train_labels = train_bow_df[\"Mode\"].tolist()\n",
    "test_data = test_bow_df[[\"Real_ID_x\", \"Real_ID_y\", \"Text\"]]\n",
    "test_labels = test_bow_df[\"Mode\"].tolist()"
   ]
  },
  {
   "cell_type": "code",
   "execution_count": 7,
   "metadata": {
    "collapsed": true
   },
   "outputs": [],
   "source": [
    "def texts_to_words( raw_text ):\n",
    "\t# Function to convert a raw text to a string of words\n",
    "\t# The input is a single string (a raw text), and \n",
    "\t# the output is a single string (a preprocessed text)\n",
    "\t#\n",
    "\t# 2. Remove non-letters        \n",
    "\tletters_only = re.sub(\"[^a-zA-Z]\", \" \", raw_text) \n",
    "\t#\n",
    "\t# 3. Convert to lower case, split into individual words\n",
    "\twords = letters_only.lower().split()                             \n",
    "\t#\n",
    "\t# 4. In Python, searching a set is much faster than searching\n",
    "\t#   a list, so convert the stop words to a set\n",
    "\tstops = set(stopwords.words(\"english\"))                  \n",
    "\t# \n",
    "\t# 5. Remove stop words\n",
    "\tmeaningful_words = [w for w in words if not w in stops]   \n",
    "\t#\n",
    "\t# 6. Join the words back into one string separated by space, \n",
    "\t# and return the result.\n",
    "\treturn( \" \".join( meaningful_words ))"
   ]
  },
  {
   "cell_type": "code",
   "execution_count": 8,
   "metadata": {
    "collapsed": true
   },
   "outputs": [],
   "source": [
    "def bag_of_words(data_train, data_test, n_features):\n",
    "    \n",
    "    # Get the number of reviews based on the dataframe column size\n",
    "    num_texts = data_train[\"Text\"].size\n",
    "\n",
    "    # Initialize an empty list to hold the clean reviews\n",
    "    print \"Cleaning and parsing the training set article sentences...\\n\"\n",
    "    clean_train_texts = []\n",
    "    for i in xrange( 0, num_texts ):\n",
    "        # If the index is evenly divisible by 1000, print a message\n",
    "        # if( (i+1)%100 == 0 ):\n",
    "            # print \"Texts %d of %d\\n\" % ( i+1, num_texts )                                                                    \n",
    "        clean_train_texts.append( texts_to_words( data_train[\"Text\"][i] ))\n",
    "\n",
    "    print \"Creating the bag of words...\\n\"\n",
    "    # Initialize the \"CountVectorizer\" object, which is scikit-learn's\n",
    "    # bag of words tool.  \n",
    "    vectorizer = CountVectorizer(analyzer = \"word\", tokenizer = None, preprocessor = None, stop_words = None, max_features = n_features) \n",
    "    # fit_transform() does two functions: First, it fits the model\n",
    "    # and learns the vocabulary; second, it transforms our training data\n",
    "    # into feature vectors. The input to fit_transform should be a list of \n",
    "    # strings.\n",
    "    train_data_features = vectorizer.fit_transform(clean_train_texts)\n",
    "\n",
    "    # Numpy arrays are easy to work with, so convert the result to an \n",
    "    # array\n",
    "    train_data_features = train_data_features.toarray()\n",
    "\n",
    "    num_texts = len(data_test[\"Text\"])\n",
    "    clean_test_texts = [] \n",
    "\n",
    "    print \"Cleaning and parsing the test set movie reviews...\\n\"\n",
    "    for i in xrange(0,num_texts):\n",
    "        # if( (i+1) % 1000 == 0 ):\n",
    "            # print \"Review %d of %d\\n\" % (i+1, num_texts)\n",
    "        clean_texts = texts_to_words( data_test[\"Text\"][i] )\n",
    "        clean_test_texts.append( clean_texts )\n",
    "\n",
    "    # Get a bag of words for the test set, and convert to a numpy array\n",
    "    test_data_features = vectorizer.transform(clean_test_texts)\n",
    "    test_data_features = test_data_features.toarray()\n",
    "\n",
    "    return train_data_features, test_data_features"
   ]
  },
  {
   "cell_type": "code",
   "execution_count": 36,
   "metadata": {
    "collapsed": true
   },
   "outputs": [],
   "source": [
    "def get_accuracy(l_new, l_te):\n",
    "\t\"\"\"Calculates the accuracy of predicted labels, based on the given labels\n",
    "\n",
    "\tINPUT: New(Predicted) Labels, Test Labels\n",
    "\n",
    "\tOUTPUT: Error  \"\"\"\n",
    "\n",
    "\tacc = 0\n",
    "\n",
    "\tfor i in range(len(l_te)):\n",
    "\t\tif l_new[i] == l_te[i]:\n",
    "\t\t\tacc += 1\n",
    "\n",
    "\tacc = float(acc / len(l_te))\n",
    "\n",
    "\treturn 1-acc"
   ]
  },
  {
   "cell_type": "code",
   "execution_count": 11,
   "metadata": {
    "collapsed": true
   },
   "outputs": [],
   "source": [
    "def RF_classifier(train_vector, test_vector, labels_train, labels_test, n_trees, ran_s):\n",
    "    print \"Training the random forest...\"\n",
    "\n",
    "    # Initialize a Random Forest classifier with n_trees trees\n",
    "    forest = RandomForestClassifier(n_estimators = n_trees, random_state = ran_s) \n",
    "\n",
    "    # Fit the forest to the training set, using the bag of words as \n",
    "    # features and the sentiment labels as the response variable\n",
    "    #\n",
    "    # This may take a few minutes to run\n",
    "    forest = forest.fit( train_vector, labels_train)\n",
    "    probs = forest.predict_proba(test_vec)[:,1] #For ROC Curve\n",
    "    \n",
    "    # Use the random forest to make sentiment label predictions\n",
    "    print \"Predicting based on model...\"\n",
    "    result = forest.predict(test_vector)\n",
    "\n",
    "    error = get_accuracy(result, labels_test)\n",
    "\n",
    "    return error, probs"
   ]
  },
  {
   "cell_type": "code",
   "execution_count": 25,
   "metadata": {
    "collapsed": false
   },
   "outputs": [
    {
     "name": "stdout",
     "output_type": "stream",
     "text": [
      "Cleaning and parsing the training set article sentences...\n",
      "\n",
      "Creating the bag of words...\n",
      "\n",
      "Cleaning and parsing the test set movie reviews...\n",
      "\n"
     ]
    }
   ],
   "source": [
    "train_vec, test_vec = bag_of_words(train_data, test_data, 1000)"
   ]
  },
  {
   "cell_type": "code",
   "execution_count": 37,
   "metadata": {
    "collapsed": false,
    "scrolled": false
   },
   "outputs": [
    {
     "name": "stdout",
     "output_type": "stream",
     "text": [
      "Training the random forest...\n",
      "Predicting based on model...\n",
      "Training the random forest...\n",
      "Predicting based on model...\n"
     ]
    }
   ],
   "source": [
    "Error_23, Probs_23 = RF_classifier(train_vec, test_vec, train_labels, test_labels, 100, 23)\n",
    "Error_8, Probs_8 = RF_classifier(train_vec, test_vec, train_labels, test_labels, 100, 8)"
   ]
  },
  {
   "cell_type": "code",
   "execution_count": 41,
   "metadata": {
    "collapsed": false
   },
   "outputs": [],
   "source": [
    "fpr_rf_23, tpr_rf_23,_ = roc_curve(test_labels, Probs_23)\n",
    "fpr_rf_8, tpr_rf_8,_ = roc_curve(test_labels, Probs_8)\n",
    "roc_auc_rf_23 = auc(fpr_rf_23, tpr_rf_23)\n",
    "roc_auc_rf_8 = auc(fpr_rf_8, tpr_rf_8)"
   ]
  },
  {
   "cell_type": "code",
   "execution_count": 42,
   "metadata": {
    "collapsed": false
   },
   "outputs": [
    {
     "data": {
      "image/png": "[encoded data removed]",
      "text/plain": [
       "<matplotlib.figure.Figure at 0x7f3d674b6690>"
      ]
     },
     "metadata": {},
     "output_type": "display_data"
    }
   ],
   "source": [
    "plt.plot([0, 1], [0, 1], 'k--')\n",
    "plt.plot(fpr_rf_23, tpr_rf_23, label='RF with Ran_State 23 (AUC = ' + '%.3f)'% (roc_auc_rf_23))\n",
    "plt.plot(fpr_rf_8, tpr_rf_8, label='RF with Ran_State 8 (AUC = ' + '%.3f)'% (roc_auc_rf_8))\n",
    "plt.xlabel('False positive rate')\n",
    "plt.ylabel('True positive rate')\n",
    "plt.title('ROC curve')\n",
    "plt.legend(loc='best')\n",
    "plt.show()"
   ]
  },
  {
   "cell_type": "code",
   "execution_count": 43,
   "metadata": {
    "collapsed": false
   },
   "outputs": [
    {
     "data": {
      "text/plain": [
       "0.2618903545927629"
      ]
     },
     "execution_count": 43,
     "metadata": {},
     "output_type": "execute_result"
    }
   ],
   "source": [
    "Error_23"
   ]
  },
  {
   "cell_type": "code",
   "execution_count": 44,
   "metadata": {
    "collapsed": false
   },
   "outputs": [
    {
     "data": {
      "text/plain": [
       "0.25971196901851623"
      ]
     },
     "execution_count": 44,
     "metadata": {},
     "output_type": "execute_result"
    }
   ],
   "source": [
    "Error_8"
   ]
  },
  {
   "cell_type": "code",
   "execution_count": null,
   "metadata": {
    "collapsed": true
   },
   "outputs": [],
   "source": []
  }
 ],
 "metadata": {
  "anaconda-cloud": {},
  "kernelspec": {
   "display_name": "Python [conda root]",
   "language": "python",
   "name": "conda-root-py"
  },
  "language_info": {
   "codemirror_mode": {
    "name": "ipython",
    "version": 2
   },
   "file_extension": ".py",
   "mimetype": "text/x-python",
   "name": "python",
   "nbconvert_exporter": "python",
   "pygments_lexer": "ipython2",
   "version": "2.7.12"
  }
 },
 "nbformat": 4,
 "nbformat_minor": 1
}
